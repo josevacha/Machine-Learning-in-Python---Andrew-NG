{
 "cells": [
  {
   "cell_type": "code",
   "execution_count": 49,
   "metadata": {},
   "outputs": [],
   "source": [
    "import numpy as np\n",
    "import matplotlib.pyplot as plt\n",
    "%matplotlib inline\n",
    "\n",
    "data_x=np.loadtxt(\"ex1data1.txt\",delimiter=',',usecols=[0]); #First Column to first row in the txt doc\n",
    "data_y=np.loadtxt(\"ex1data1.txt\",delimiter=',',usecols=[1]); #Second Column to second row in the txt doc\n",
    "data_x = np.c_[np.ones(data_x.shape[0]),data_x[:]] #Add an extra bias coloumn of all ones to input matrix"
   ]
  },
  {
   "cell_type": "code",
   "execution_count": 50,
   "metadata": {},
   "outputs": [
    {
     "data": {
      "text/plain": [
       "<matplotlib.collections.PathCollection at 0x1103bdc50>"
      ]
     },
     "execution_count": 50,
     "metadata": {},
     "output_type": "execute_result"
    },
    {
     "data": {
      "image/png": "[encoded data removed]",
      "text/plain": [
       "<matplotlib.figure.Figure at 0x1103d8470>"
      ]
     },
     "metadata": {},
     "output_type": "display_data"
    }
   ],
   "source": [
    "plt.xlabel(\"Population of City in 10,000s\")\n",
    "plt.ylabel(\"Profit in $10,000s\")\n",
    "plt.xlim(3,25) #X-axis starts at 3 and max 25\n",
    "plt.scatter(data_x[:,1],data_y,marker='x',c='g',linewidths=1)"
   ]
  },
  {
   "cell_type": "markdown",
   "metadata": {},
   "source": [
    "#### Linear Regression Cost Computing J(ø)"
   ]
  },
  {
   "cell_type": "code",
   "execution_count": 178,
   "metadata": {},
   "outputs": [],
   "source": [
    "def linear_cost(x,y,theta):\n",
    "    m=data_y.size\n",
    "    J=0\n",
    "    h=data_x.dot(theta)\n",
    "    J=1/(2*m)*np.sum(np.square(h-data_y))\n",
    "    return J"
   ]
  },
  {
   "cell_type": "code",
   "execution_count": 182,
   "metadata": {},
   "outputs": [
    {
     "name": "stdout",
     "output_type": "stream",
     "text": [
      "10.9506534811\n"
     ]
    },
    {
     "data": {
      "text/plain": [
       "[1.2, 1]"
      ]
     },
     "execution_count": 182,
     "metadata": {},
     "output_type": "execute_result"
    }
   ],
   "source": [
    "theta1=[1.2,1]\n",
    "#theta=[0,0]\n",
    "print (linear_cost(data_x,data_y,theta1))\n",
    "theta1"
   ]
  },
  {
   "cell_type": "code",
   "execution_count": 126,
   "metadata": {},
   "outputs": [],
   "source": [
    "def gradientDescent(X, y, theta=[[0],[0]], alpha=0.01, num_iters=1500):\n",
    "    m = y.size\n",
    "    J_history = np.zeros(num_iters)\n",
    "    \n",
    "    for iter in np.arange(num_iters):\n",
    "        h = X.dot(theta)\n",
    "        theta = theta - alpha*(1/m)*(X.T.dot(h-y))\n",
    "        J_history[iter] = linear_cost(X, y, theta)\n",
    "        \n",
    "    return(theta, J_history)"
   ]
  },
  {
   "cell_type": "code",
   "execution_count": 187,
   "metadata": {},
   "outputs": [
    {
     "name": "stdout",
     "output_type": "stream",
     "text": [
      "theta:  [  1.64289233e+01   8.52656639e+00   1.27587512e+01   1.10702852e+01\n",
      "   6.37218467e+00   1.11001696e+01   4.06081670e+00   1.12066326e+01\n",
      "   6.16243386e+00   3.56426949e+00   3.03718420e+00   1.44799032e+01\n",
      "   2.94650387e+00   6.74807380e+00   6.68830509e-01   3.28064830e+00\n",
      "   4.95407870e+00   5.23695279e-01   3.41036507e+00   5.03299208e+00\n",
      "   2.93109475e+00   2.03278976e+01   3.98115622e+00   4.84453387e+00\n",
      "   2.87870374e+00   2.11413123e+01   1.26083955e+01   6.58081481e+00\n",
      "   1.37206538e+01   2.25505464e+01  -1.13934098e+00   5.60014107e+00\n",
      "   1.13317733e+01   1.72722224e+00   6.11004285e+00   4.26066831e+00\n",
      "   3.84424853e+00   3.16848858e+00   9.44812514e+00   5.13394516e+00\n",
      "   5.19772957e-01   3.65289527e+00   5.02934992e+00   2.27924229e+00\n",
      "   6.28673409e+00   9.77124971e-01   4.79429080e+00   1.72208587e+00\n",
      "   7.47510409e+00   9.50602608e-01   6.30410437e+00   1.71797677e+00\n",
      "   4.00497031e+00   4.66765585e+00   1.32920001e+00  -1.32714546e+00\n",
      "   2.31192830e+00   4.29979814e+00   3.70043007e+00   5.05615245e+00\n",
      "   4.82763053e+00  -6.93681217e-01   1.67436429e+01   1.12570624e+01\n",
      "   1.59264927e+01   4.56222012e+00   5.36442823e+00   7.26133757e+00\n",
      "   9.50042276e-01   1.96041359e+01   6.23826541e+00   3.75973184e+00\n",
      "   1.19387992e+00   3.12020667e+00  -2.50346833e+00   2.77158701e-01\n",
      "   3.62768035e+00   5.32445791e+00   6.30615892e+00   1.92156393e+00\n",
      "   4.47826376e-01   1.90708870e-01   6.33744411e-01   7.04476940e+00\n",
      "   4.99031348e+00   3.96107767e+00   6.34865074e+00   8.65665672e-01\n",
      "   1.41950679e-01   2.63486609e+00   1.72311315e+00   4.01188107e+00\n",
      "   6.72668781e+00   1.85553819e+00   1.34983889e-01   8.45643155e+00\n",
      "   5.76254386e-01   1.16843665e-01   6.06415436e-02   9.07411413e-02\n",
      "   7.87326518e-02   4.53194283e-02   7.89451914e-02   2.88808157e-02\n",
      "   7.97023639e-02   4.38276657e-02   2.53493368e-02   2.16006690e-02\n",
      "   1.02982096e-01   2.09557440e-02   4.79927784e-02   4.75676992e-03\n",
      "   2.33322028e-02   3.52337583e-02   3.72455788e-03   2.42547577e-02\n",
      "   3.57949958e-02   2.08461533e-02   1.44573446e-01   2.83142648e-02\n",
      "   3.44546677e-02   2.04735447e-02   1.50358510e-01   8.96718013e-02\n",
      "   4.68032206e-02   9.75822609e-02   1.60381082e-01  -8.10307366e-03\n",
      "   3.98285996e-02   8.05923736e-02   1.22841268e-02   4.34550572e-02\n",
      "   3.03021746e-02   2.73405676e-02   2.25345150e-02   6.71957346e-02\n",
      "   3.65129813e-02   3.69666206e-03   2.59796497e-02   3.57690925e-02\n",
      "   1.62101324e-02   4.47116978e-02   6.94938195e-03   3.40973355e-02\n",
      "   1.22475966e-02   5.31634693e-02   6.76075302e-03   4.48352364e-02\n",
      "   1.22183724e-02   2.84836323e-02   3.31966988e-02   9.45336455e-03\n",
      "  -9.43875245e-03   1.64425977e-02   3.05804687e-02   2.63177206e-02\n",
      "   3.59597140e-02   3.43344500e-02  -4.93350991e-03   1.19081974e-01\n",
      "   8.00610245e-02   1.13270343e-01   3.24468323e-02   3.81521932e-02\n",
      "   5.16431467e-02   6.75676790e-03   1.39426002e-01   4.43669851e-02\n",
      "   2.67394789e-02   8.49095850e-03   2.21911307e-02  -1.78048439e-02\n",
      "   1.97117230e-03   2.58003194e-02   3.78679215e-02   4.48498485e-02\n",
      "   1.36662987e-02   3.18497288e-03   1.35633498e-03   4.50723510e-03\n",
      "   5.01028985e-02   3.54914626e-02   2.81714647e-02   4.51520533e-02\n",
      "   6.15667552e-03   1.00956328e-03   1.87393541e-02   1.22549026e-02\n",
      "   2.85327821e-02   4.78406797e-02   1.31967189e-02   9.60014973e-04\n",
      "   6.01427396e-02   4.09836197e-03]\n"
     ]
    },
    {
     "data": {
      "image/png": "[encoded data removed]",
      "text/plain": [
       "<matplotlib.figure.Figure at 0x1111ec7f0>"
      ]
     },
     "metadata": {},
     "output_type": "display_data"
    }
   ],
   "source": [
    "# theta for minimized cost J\n",
    "theta , Cost_J = gradientDescent(data_x, data_y)\n",
    "#print (theta[:,96]);\n",
    "print('theta: ',theta.ravel())\n",
    "#print (Cost_J.shape[0]);\n",
    "\n",
    "plt.plot(Cost_J)\n",
    "plt.ylabel('Cost J')\n",
    "plt.xlabel('Iterations');"
   ]
  },
  {
   "cell_type": "code",
   "execution_count": 190,
   "metadata": {},
   "outputs": [
    {
     "data": {
      "text/plain": [
       "array([ 0.57625439,  0.00409836])"
      ]
     },
     "execution_count": 190,
     "metadata": {},
     "output_type": "execute_result"
    }
   ],
   "source": [
    "theta[:,96]"
   ]
  },
  {
   "cell_type": "code",
   "execution_count": null,
   "metadata": {
    "collapsed": true
   },
   "outputs": [],
   "source": []
  }
 ],
 "metadata": {
  "kernelspec": {
   "display_name": "Python 3",
   "language": "python",
   "name": "python3"
  },
  "language_info": {
   "codemirror_mode": {
    "name": "ipython",
    "version": 3
   },
   "file_extension": ".py",
   "mimetype": "text/x-python",
   "name": "python",
   "nbconvert_exporter": "python",
   "pygments_lexer": "ipython3",
   "version": "3.6.1"
  }
 },
 "nbformat": 4,
 "nbformat_minor": 2
}
