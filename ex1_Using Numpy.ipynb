{
 "cells": [
  {
   "cell_type": "code",
   "execution_count": 1,
   "metadata": {
    "collapsed": true
   },
   "outputs": [],
   "source": [
    "import numpy as np\n",
    "import matplotlib.pyplot as plt\n",
    "%matplotlib inline\n",
    "\n",
    "data_x=np.loadtxt(\"ex1data1.txt\",delimiter=',',usecols=[0]); #First Column to first row in the txt doc\n",
    "data_y=np.loadtxt(\"ex1data1.txt\",delimiter=',',usecols=[1]); #Second Column to second row in the txt doc\n",
    "data_x = np.c_[np.ones(data_x.shape[0]),data_x[:]] #Add an extra bias coloumn of all ones to input matrix"
   ]
  },
  {
   "cell_type": "code",
   "execution_count": 2,
   "metadata": {},
   "outputs": [
    {
     "data": {
      "text/plain": [
       "<matplotlib.collections.PathCollection at 0x118647a90>"
      ]
     },
     "execution_count": 2,
     "metadata": {},
     "output_type": "execute_result"
    },
    {
     "data": {
      "image/png": "[encoded data removed]",
      "text/plain": [
       "<matplotlib.figure.Figure at 0x1152cad30>"
      ]
     },
     "metadata": {},
     "output_type": "display_data"
    }
   ],
   "source": [
    "plt.xlabel(\"Population of City in 10,000s\")\n",
    "plt.ylabel(\"Profit in $10,000s\")\n",
    "plt.xlim(3,25) #X-axis starts at 3 and max 25\n",
    "plt.scatter(data_x[:,1],data_y,marker='x',c='g',linewidths=1)"
   ]
  },
  {
   "cell_type": "markdown",
   "metadata": {},
   "source": [
    "#### Linear Regression Cost Computing J(ø)"
   ]
  },
  {
   "cell_type": "code",
   "execution_count": 3,
   "metadata": {
    "collapsed": true
   },
   "outputs": [],
   "source": [
    "def linear_cost(x,y,theta):\n",
    "    m=data_y.size\n",
    "    J=0\n",
    "    h=data_x.dot(theta)\n",
    "    J=1/(2*m)*np.sum(np.square(h-data_y))\n",
    "    return J"
   ]
  },
  {
   "cell_type": "code",
   "execution_count": 4,
   "metadata": {},
   "outputs": [
    {
     "name": "stdout",
     "output_type": "stream",
     "text": [
      "\n",
      "Testing the cost function ...\n",
      "\n",
      "With theta = [0 ; 0]\n",
      "Cost computed = 32.072733877455676\n",
      "\n",
      "Expected cost value (approx) 32.07\n",
      "\n",
      "\n",
      "With theta = [-1 ; 2]\n",
      "Cost computed = 54.24245508201238\n",
      "\n",
      "Expected cost value (approx) 54.24\n",
      "\n"
     ]
    }
   ],
   "source": [
    "print('\\nTesting the cost function ...\\n')\n",
    "# compute and display initial cost\n",
    "theta=[0,0]\n",
    "J = linear_cost(data_x, data_y, theta);\n",
    "print('With theta = [0 ; 0]\\nCost computed = {0}\\n'.format(J));\n",
    "print('Expected cost value (approx) 32.07\\n');\n",
    "\n",
    "# further testing of the cost function\n",
    "J = linear_cost(data_x, data_y, [-1 , 2]);\n",
    "print('\\nWith theta = [-1 ; 2]\\nCost computed = {0}\\n'.format(J));\n",
    "print('Expected cost value (approx) 54.24\\n');\n"
   ]
  },
  {
   "cell_type": "code",
   "execution_count": 14,
   "metadata": {},
   "outputs": [
    {
     "data": {
      "text/plain": [
       "(97, 2)"
      ]
     },
     "execution_count": 14,
     "metadata": {},
     "output_type": "execute_result"
    }
   ],
   "source": [
    "data_x.shape"
   ]
  },
  {
   "cell_type": "code",
   "execution_count": 5,
   "metadata": {
    "collapsed": true
   },
   "outputs": [],
   "source": [
    "def gradientDescent(X, y, theta=[0,0], alpha=0.01, num_iters=1500):\n",
    "    m = y.size\n",
    "    J_history = np.zeros(num_iters)\n",
    "    \n",
    "    for iter in np.arange(num_iters):\n",
    "        #h = X.dot(theta)\n",
    "        h=np.dot(X,theta)\n",
    "        theta = theta - alpha/m*np.dot((h-y),X)\n",
    "        J_history[iter] = linear_cost(X, y, theta)\n",
    "        \n",
    "    return(theta, J_history)"
   ]
  },
  {
   "cell_type": "code",
   "execution_count": 8,
   "metadata": {},
   "outputs": [
    {
     "name": "stdout",
     "output_type": "stream",
     "text": [
      "theta:  [-3.63029144  1.16636235]\n",
      "1500\n",
      "\n",
      "Running Gradient Descent ...\n",
      "\n",
      "Theta found by gradient descent:\n",
      "\n",
      "[-3.63029144  1.16636235]\n",
      "\n",
      "Expected theta values (approx)\n",
      "\n",
      " -3.6303\n",
      "  1.1664\n",
      "\n",
      "\n"
     ]
    },
    {
     "data": {
      "image/png": "[encoded data removed]",
      "text/plain": [
       "<matplotlib.figure.Figure at 0x1189ab9b0>"
      ]
     },
     "metadata": {},
     "output_type": "display_data"
    }
   ],
   "source": [
    "# theta for minimized cost J\n",
    "theta , Cost_J = gradientDescent(data_x, data_y)\n",
    "print('theta: ',theta.ravel())\n",
    "print (Cost_J.shape[0]);\n",
    "\n",
    "plt.plot(Cost_J)\n",
    "plt.ylabel('Cost J')\n",
    "plt.xlabel('Iterations');\n",
    "\n",
    "\n",
    "print('\\nRunning Gradient Descent ...\\n')\n",
    "# run gradient descent\n",
    "#theta=[1,2]\n",
    "#alpha=0.01;\n",
    "#iterations=1500;\n",
    "#theta = gradientDescent(data_x, data_y, theta, alpha, iterations);\n",
    "\n",
    "# print theta to screen\n",
    "print('Theta found by gradient descent:\\n');\n",
    "print('{0}\\n'.format(theta));\n",
    "print('Expected theta values (approx)\\n');\n",
    "print(' -3.6303\\n  1.1664\\n\\n');"
   ]
  },
  {
   "cell_type": "code",
   "execution_count": 11,
   "metadata": {},
   "outputs": [
    {
     "name": "stdout",
     "output_type": "stream",
     "text": [
      "4.48338772099\n"
     ]
    }
   ],
   "source": [
    "print (linear_cost(data_x, data_y, [-3.6303,1.1664]))"
   ]
  },
  {
   "cell_type": "code",
   "execution_count": null,
   "metadata": {
    "collapsed": true
   },
   "outputs": [],
   "source": []
  }
 ],
 "metadata": {
  "kernelspec": {
   "display_name": "Python 3",
   "language": "python",
   "name": "python3"
  },
  "language_info": {
   "codemirror_mode": {
    "name": "ipython",
    "version": 3
   },
   "file_extension": ".py",
   "mimetype": "text/x-python",
   "name": "python",
   "nbconvert_exporter": "python",
   "pygments_lexer": "ipython3",
   "version": "3.6.1"
  }
 },
 "nbformat": 4,
 "nbformat_minor": 2
}
