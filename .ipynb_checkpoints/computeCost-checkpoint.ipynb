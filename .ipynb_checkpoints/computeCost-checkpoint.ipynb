{
 "cells": [
  {
   "cell_type": "code",
   "execution_count": 12,
   "metadata": {},
   "outputs": [],
   "source": [
    "     # define a function that computes the cost function J()\n",
    "    \n",
    "def computeCost(X,y,theta):\n",
    "    '''where X is a pandas dataframe of input features, plus a column of ones to accommodate theta 0;\n",
    "    y is a vector that we are trying to predict using these features, and theta is an array of the parameters'''\n",
    "\n",
    "    m = len(y)\n",
    "    hypothesis = X.dot(theta)\n",
    "    a = (hypothesis[0]-y)**2\n",
    "    print (type(a))\n",
    "    J=21\n",
    "    #J = (1/(2*m)*sum(a))\n",
    "    return J\n",
    "    \n",
    "    \n",
    "    "
   ]
  },
  {
   "cell_type": "code",
   "execution_count": null,
   "metadata": {
    "collapsed": true
   },
   "outputs": [],
   "source": []
  }
 ],
 "metadata": {
  "kernelspec": {
   "display_name": "Python 3",
   "language": "python",
   "name": "python3"
  },
  "language_info": {
   "codemirror_mode": {
    "name": "ipython",
    "version": 3
   },
   "file_extension": ".py",
   "mimetype": "text/x-python",
   "name": "python",
   "nbconvert_exporter": "python",
   "pygments_lexer": "ipython3",
   "version": "3.6.1"
  }
 },
 "nbformat": 4,
 "nbformat_minor": 2
}
